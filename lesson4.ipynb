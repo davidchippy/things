{
 "cells": [
  {
   "cell_type": "code",
   "execution_count": 70,
   "metadata": {},
   "outputs": [],
   "source": [
    "import sympy as sp\n",
    "from scipy import optimize\n",
    "import numpy as np"
   ]
  },
  {
   "cell_type": "markdown",
   "metadata": {},
   "source": [
    "# Problem 1"
   ]
  },
  {
   "cell_type": "code",
   "execution_count": 1,
   "metadata": {},
   "outputs": [],
   "source": [
    "from sympy.abc import s"
   ]
  },
  {
   "cell_type": "code",
   "execution_count": 7,
   "metadata": {},
   "outputs": [
    {
     "data": {
      "text/latex": [
       "$\\displaystyle \\frac{\\sqrt{2} s}{2} + 2 s$"
      ],
      "text/plain": [
       "sqrt(2)*s/2 + 2*s"
      ]
     },
     "execution_count": 7,
     "metadata": {},
     "output_type": "execute_result"
    }
   ],
   "source": [
    "s/2*sp.sqrt(2)+2*s"
   ]
  },
  {
   "cell_type": "code",
   "execution_count": 8,
   "metadata": {},
   "outputs": [
    {
     "data": {
      "text/latex": [
       "$\\displaystyle \\left\\{\\frac{4}{7} - \\frac{\\sqrt{2}}{7}\\right\\}$"
      ],
      "text/plain": [
       "FiniteSet(4/7 - sqrt(2)/7)"
      ]
     },
     "execution_count": 8,
     "metadata": {},
     "output_type": "execute_result"
    }
   ],
   "source": [
    "sp.solveset(sp.Eq(_, 1))"
   ]
  },
  {
   "cell_type": "code",
   "execution_count": 9,
   "metadata": {},
   "outputs": [],
   "source": [
    "a = 4\n",
    "b = 7"
   ]
  },
  {
   "cell_type": "code",
   "execution_count": 10,
   "metadata": {},
   "outputs": [
    {
     "data": {
      "text/plain": [
       "11"
      ]
     },
     "execution_count": 10,
     "metadata": {},
     "output_type": "execute_result"
    }
   ],
   "source": [
    "a+b"
   ]
  },
  {
   "cell_type": "markdown",
   "metadata": {},
   "source": [
    "# Problem 2"
   ]
  },
  {
   "cell_type": "code",
   "execution_count": 19,
   "metadata": {},
   "outputs": [
    {
     "data": {
      "text/latex": [
       "$\\displaystyle \\frac{\\sqrt{3}}{6} + \\frac{1}{2}$"
      ],
      "text/plain": [
       "sqrt(3)/6 + 1/2"
      ]
     },
     "execution_count": 19,
     "metadata": {},
     "output_type": "execute_result"
    }
   ],
   "source": [
    "half_diagonal = (sp.Rational(1,2) + 1/(2*sp.sqrt(3)))\n",
    "half_diagonal"
   ]
  },
  {
   "cell_type": "code",
   "execution_count": 20,
   "metadata": {},
   "outputs": [
    {
     "data": {
      "text/latex": [
       "$\\displaystyle \\sqrt{2} \\left(\\frac{\\sqrt{3}}{6} + \\frac{1}{2}\\right)$"
      ],
      "text/plain": [
       "sqrt(2)*(sqrt(3)/6 + 1/2)"
      ]
     },
     "execution_count": 20,
     "metadata": {},
     "output_type": "execute_result"
    }
   ],
   "source": [
    "side = half_diagonal * sp.sqrt(2)\n",
    "side"
   ]
  },
  {
   "cell_type": "code",
   "execution_count": 22,
   "metadata": {},
   "outputs": [
    {
     "data": {
      "text/latex": [
       "$\\displaystyle \\frac{\\sqrt{3}}{3} + \\frac{2}{3}$"
      ],
      "text/plain": [
       "sqrt(3)/3 + 2/3"
      ]
     },
     "execution_count": 22,
     "metadata": {},
     "output_type": "execute_result"
    }
   ],
   "source": [
    "sp.expand(side**2)"
   ]
  },
  {
   "cell_type": "markdown",
   "metadata": {},
   "source": [
    "# Problem 3"
   ]
  },
  {
   "cell_type": "code",
   "execution_count": 2,
   "metadata": {},
   "outputs": [],
   "source": [
    "from sympy.abc import x"
   ]
  },
  {
   "cell_type": "code",
   "execution_count": 4,
   "metadata": {},
   "outputs": [
    {
     "data": {
      "text/latex": [
       "$\\displaystyle 12 x^{2}$"
      ],
      "text/plain": [
       "12*x**2"
      ]
     },
     "execution_count": 4,
     "metadata": {},
     "output_type": "execute_result"
    }
   ],
   "source": [
    "area = 4*x*3*x\n",
    "area"
   ]
  },
  {
   "cell_type": "code",
   "execution_count": 7,
   "metadata": {},
   "outputs": [
    {
     "data": {
      "text/latex": [
       "$\\displaystyle 5 \\sqrt{x^{2}}$"
      ],
      "text/plain": [
       "5*sqrt(x**2)"
      ]
     },
     "execution_count": 7,
     "metadata": {},
     "output_type": "execute_result"
    }
   ],
   "source": [
    "diagonal = sp.sqrt((4*x)**2 + (3*x)**2)\n",
    "diagonal"
   ]
  },
  {
   "cell_type": "code",
   "execution_count": 10,
   "metadata": {},
   "outputs": [
    {
     "data": {
      "text/latex": [
       "$\\displaystyle \\frac{12}{25}$"
      ],
      "text/plain": [
       "12/25"
      ]
     },
     "execution_count": 10,
     "metadata": {},
     "output_type": "execute_result"
    }
   ],
   "source": [
    "sp.simplify(area/diagonal**2)"
   ]
  },
  {
   "cell_type": "markdown",
   "metadata": {},
   "source": [
    "# Problem 4"
   ]
  },
  {
   "cell_type": "code",
   "execution_count": 11,
   "metadata": {},
   "outputs": [],
   "source": [
    "side_squared = 3**2 + 4**2 - 2*3*4*sp.cos(2*sp.pi/3)"
   ]
  },
  {
   "cell_type": "code",
   "execution_count": 12,
   "metadata": {},
   "outputs": [
    {
     "data": {
      "text/latex": [
       "$\\displaystyle \\frac{37 \\sqrt{3}}{4}$"
      ],
      "text/plain": [
       "37*sqrt(3)/4"
      ]
     },
     "execution_count": 12,
     "metadata": {},
     "output_type": "execute_result"
    }
   ],
   "source": [
    "side_squared * sp.sqrt(3)/4"
   ]
  },
  {
   "cell_type": "markdown",
   "metadata": {},
   "source": [
    "# Problem 5"
   ]
  },
  {
   "cell_type": "markdown",
   "metadata": {},
   "source": [
    "$$\\cos\\theta = 1-x\\sin \\theta\\implies x = \\frac{1-\\cos\\theta}{\\sin\\theta}$$ $$\\sin\\theta = 1-x(\\cos\\theta + 1) = 1 - \\frac{1-\\cos\\theta}{\\sin\\theta}(\\cos\\theta + 1)$$"
   ]
  },
  {
   "cell_type": "code",
   "execution_count": 48,
   "metadata": {},
   "outputs": [],
   "source": [
    "from sympy.abc import theta"
   ]
  },
  {
   "cell_type": "code",
   "execution_count": 55,
   "metadata": {},
   "outputs": [
    {
     "data": {
      "text/latex": [
       "$\\displaystyle \\sin{\\left(\\theta \\right)} = - \\frac{\\left(1 - \\cos{\\left(\\theta \\right)}\\right) \\left(\\cos{\\left(\\theta \\right)} + 1\\right)}{\\sin{\\left(\\theta \\right)}} + 1$"
      ],
      "text/plain": [
       "Eq(sin(theta), -(1 - cos(theta))*(cos(theta) + 1)/sin(theta) + 1)"
      ]
     },
     "execution_count": 55,
     "metadata": {},
     "output_type": "execute_result"
    }
   ],
   "source": [
    "sp.Eq(sp.sin(theta), 1 - (1-sp.cos(theta))/sp.sin(theta)*(sp.cos(theta)+1))"
   ]
  },
  {
   "cell_type": "code",
   "execution_count": 56,
   "metadata": {},
   "outputs": [
    {
     "data": {
      "text/latex": [
       "$\\displaystyle \\left\\{2 n \\pi + \\frac{5 \\pi}{6}\\; |\\; n \\in \\mathbb{Z}\\right\\} \\cup \\left\\{2 n \\pi + \\frac{\\pi}{6}\\; |\\; n \\in \\mathbb{Z}\\right\\}$"
      ],
      "text/plain": [
       "Union(ImageSet(Lambda(_n, 2*_n*pi + 5*pi/6), Integers), ImageSet(Lambda(_n, 2*_n*pi + pi/6), Integers))"
      ]
     },
     "execution_count": 56,
     "metadata": {},
     "output_type": "execute_result"
    }
   ],
   "source": [
    "sp.solveset(_,theta)"
   ]
  },
  {
   "cell_type": "code",
   "execution_count": 58,
   "metadata": {},
   "outputs": [
    {
     "data": {
      "text/latex": [
       "$\\displaystyle 2 - \\sqrt{3}$"
      ],
      "text/plain": [
       "2 - sqrt(3)"
      ]
     },
     "execution_count": 58,
     "metadata": {},
     "output_type": "execute_result"
    }
   ],
   "source": [
    "x = (1-sp.cos(theta))/sp.sin(theta)\n",
    "x.subs(theta, sp.pi/6)"
   ]
  },
  {
   "cell_type": "markdown",
   "metadata": {},
   "source": [
    "# Problem 6"
   ]
  },
  {
   "cell_type": "code",
   "execution_count": 78,
   "metadata": {},
   "outputs": [],
   "source": [
    "def angles(x):\n",
    "    A, C = x\n",
    "    return [18**2+24**2-2*18*24*np.cos(C)-12**2,\n",
    "               12**2+18**2-2*18*12*np.cos(A)-24**2]"
   ]
  },
  {
   "cell_type": "code",
   "execution_count": 79,
   "metadata": {},
   "outputs": [
    {
     "data": {
      "text/plain": [
       "    fjac: array([[-4.89162936e-07, -1.00000000e+00],\n",
       "       [ 1.00000000e+00, -4.89162936e-07]])\n",
       "     fun: array([ 2.03499440e-11, -5.91171556e-12])\n",
       " message: 'The solution converged.'\n",
       "    nfev: 10\n",
       "     qtf: array([ 3.13425063e-07, -2.09202556e-09])\n",
       "       r: array([-418.28180675,   -1.21862708,  414.22372059])\n",
       "  status: 1\n",
       " success: True\n",
       "       x: array([1.82347658, 0.50536051])"
      ]
     },
     "execution_count": 79,
     "metadata": {},
     "output_type": "execute_result"
    }
   ],
   "source": [
    "optimize.root(angles, [1/2, 1/2])"
   ]
  },
  {
   "cell_type": "code",
   "execution_count": 81,
   "metadata": {},
   "outputs": [
    {
     "data": {
      "text/plain": [
       "(1.8234765819369612, 0.505360510284206)"
      ]
     },
     "execution_count": 81,
     "metadata": {},
     "output_type": "execute_result"
    }
   ],
   "source": [
    "A, C = _.x\n",
    "A, C"
   ]
  },
  {
   "cell_type": "code",
   "execution_count": 82,
   "metadata": {},
   "outputs": [],
   "source": [
    "def middles(x):\n",
    "    m, M = x\n",
    "    return [np.sin(np.pi - A/2 - C/2)/18 - np.sin(C/2)/m, np.sin(np.pi - C - A/2)/18 - np.sin(C)/M]"
   ]
  },
  {
   "cell_type": "code",
   "execution_count": 83,
   "metadata": {},
   "outputs": [
    {
     "data": {
      "text/plain": [
       "    fjac: array([[ 0.9999971 ,  0.00240771],\n",
       "       [-0.00240771,  0.9999971 ]])\n",
       "     fun: array([-2.77555756e-16, -4.57966998e-16])\n",
       " message: 'The solution converged.'\n",
       "    nfev: 12\n",
       "     qtf: array([3.18077492e-12, 5.40262672e-12])\n",
       "       r: array([1.04314327e-02, 9.49595311e-06, 6.21652974e-03])\n",
       "  status: 1\n",
       " success: True\n",
       "       x: array([4.89897949, 8.81816307])"
      ]
     },
     "execution_count": 83,
     "metadata": {},
     "output_type": "execute_result"
    }
   ],
   "source": [
    "optimize.root(middles, [6, 6])"
   ]
  },
  {
   "cell_type": "code",
   "execution_count": 84,
   "metadata": {},
   "outputs": [
    {
     "data": {
      "text/plain": [
       "(4.898979485566755, 8.818163074020086)"
      ]
     },
     "execution_count": 84,
     "metadata": {},
     "output_type": "execute_result"
    }
   ],
   "source": [
    "m, M = _.x\n",
    "m, M"
   ]
  },
  {
   "cell_type": "code",
   "execution_count": 91,
   "metadata": {},
   "outputs": [],
   "source": [
    "def f(x):\n",
    "    x1, x2, a1, a2, b1, b2 = x\n",
    "    return [x1/12 - x2/18,\n",
    "               x2/a2-18/b2,\n",
    "               x1/a1-12/b1,\n",
    "                m/a1-M/b1,\n",
    "                m/a2-M/b2,\n",
    "               b1 + b2-24]"
   ]
  },
  {
   "cell_type": "code",
   "execution_count": 92,
   "metadata": {},
   "outputs": [
    {
     "data": {
      "text/plain": [
       "    fjac: array([[-6.15157946e-01, -4.09110088e-01, -6.73591675e-01,\n",
       "        -9.49502497e-03, -1.98428055e-02, -3.16226413e-10],\n",
       "       [ 6.15955145e-01, -7.82728658e-01, -8.64208649e-02,\n",
       "        -9.35677655e-03, -1.94677143e-02, -2.96121589e-10],\n",
       "       [ 2.29628531e-01,  2.38601208e-01, -3.29133579e-01,\n",
       "        -7.11830643e-01, -5.24698413e-01,  9.50641288e-10],\n",
       "       [-4.13636151e-01, -3.79799854e-01,  6.25965771e-01,\n",
       "        -1.71978032e-01, -5.13076617e-01,  1.52745184e-09],\n",
       "       [ 3.37984249e-03,  3.41924494e-03, -4.90397683e-03,\n",
       "         1.69845640e-02, -1.69318684e-02,  9.99688788e-01],\n",
       "       [ 1.35441533e-01,  1.37020536e-01, -1.96518654e-01,\n",
       "         6.80628028e-01, -6.78516428e-01, -2.49464856e-02]])\n",
       "     fun: array([0.00000000e+00, 6.46160903e-11, 3.70463660e-11, 2.23623342e-11,\n",
       "       2.67099676e-11, 0.00000000e+00])\n",
       " message: 'The solution converged.'\n",
       "    nfev: 32\n",
       "     qtf: array([1.09031939e-08, 1.16828009e-08, 7.05835887e-09, 5.24401304e-09,\n",
       "       1.09405401e-11, 4.38424205e-10])\n",
       "       r: array([-0.13546656, -0.05764518,  0.06401289,  0.09857402, -0.0085433 ,\n",
       "       -0.23146194, -0.14776473,  0.0326298 ,  0.12912533,  0.03939257,\n",
       "       -0.27639799,  0.0839597 ,  0.04107865, -0.05502656, -0.0191983 ,\n",
       "        0.06848931,  0.04899177, -0.08582402,  1.0003113 ,  0.99909435,\n",
       "       -0.04876723])\n",
       "  status: 1\n",
       " success: True\n",
       "       x: array([ 6.66666667, 10.        ,  6.72397042,  6.60936291, 12.10314676,\n",
       "       11.89685324])"
      ]
     },
     "execution_count": 92,
     "metadata": {},
     "output_type": "execute_result"
    }
   ],
   "source": [
    "optimize.root(f, [1] * 6)"
   ]
  },
  {
   "cell_type": "code",
   "execution_count": 93,
   "metadata": {},
   "outputs": [],
   "source": [
    "x1, x2, a1, a2, b1, b2 = _.x"
   ]
  },
  {
   "cell_type": "code",
   "execution_count": 94,
   "metadata": {},
   "outputs": [
    {
     "data": {
      "text/plain": [
       "29.999999999666905"
      ]
     },
     "execution_count": 94,
     "metadata": {},
     "output_type": "execute_result"
    }
   ],
   "source": [
    "x1 + x2 + a1 + a2"
   ]
  },
  {
   "cell_type": "markdown",
   "metadata": {},
   "source": [
    "$30$"
   ]
  },
  {
   "cell_type": "markdown",
   "metadata": {},
   "source": [
    "# Problem 7\n",
    "$0$"
   ]
  },
  {
   "cell_type": "markdown",
   "metadata": {},
   "source": [
    "# Problem 8"
   ]
  },
  {
   "cell_type": "code",
   "execution_count": 105,
   "metadata": {},
   "outputs": [],
   "source": [
    "from sympy.abc import x"
   ]
  },
  {
   "cell_type": "code",
   "execution_count": 109,
   "metadata": {},
   "outputs": [
    {
     "data": {
      "text/latex": [
       "$\\displaystyle 49 - x^{2} = 81 - \\left(8 - x\\right)^{2}$"
      ],
      "text/plain": [
       "Eq(49 - x**2, 81 - (8 - x)**2)"
      ]
     },
     "execution_count": 109,
     "metadata": {},
     "output_type": "execute_result"
    }
   ],
   "source": [
    "sp.Eq(7**2 - x**2, 9**2-(8-x)**2)"
   ]
  },
  {
   "cell_type": "code",
   "execution_count": 110,
   "metadata": {},
   "outputs": [
    {
     "data": {
      "text/latex": [
       "$\\displaystyle \\left\\{2\\right\\}$"
      ],
      "text/plain": [
       "FiniteSet(2)"
      ]
     },
     "execution_count": 110,
     "metadata": {},
     "output_type": "execute_result"
    }
   ],
   "source": [
    "sp.solveset(_,x)"
   ]
  },
  {
   "cell_type": "markdown",
   "metadata": {},
   "source": [
    "$BH = 2$. $\\cos B = \\frac{BH}{7} = \\frac27$.\n",
    "$$\\begin{split}QH & = BH\\tan B/2\\\\ & = 2\\cdot\\frac{\\sin B/2}{\\cos B/2}\\\\ &= 2\\sqrt{\\frac{1-\\cos B}{1+ \\cos B}}\\end{split}$$"
   ]
  },
  {
   "cell_type": "code",
   "execution_count": 113,
   "metadata": {},
   "outputs": [
    {
     "data": {
      "text/latex": [
       "$\\displaystyle \\frac{2 \\sqrt{5}}{3}$"
      ],
      "text/plain": [
       "2*sqrt(5)/3"
      ]
     },
     "execution_count": 113,
     "metadata": {},
     "output_type": "execute_result"
    }
   ],
   "source": []
  },
  {
   "cell_type": "markdown",
   "metadata": {},
   "source": [
    "$\\cos C = \\frac{CH}{AC} = \\frac23$.\n",
    "$$\n",
    "\\begin{split}\n",
    "    PH & = CH\\tan C/2\\\\\n",
    "    & = 6\\cdot\\frac{\\sin C/2}{\\cos C/2}\\\\\n",
    "    & = 6\\sqrt{\\frac{1-\\cos C}{1+\\cos C}}\n",
    "\\end{split}\n",
    "$$"
   ]
  },
  {
   "cell_type": "code",
   "execution_count": 116,
   "metadata": {},
   "outputs": [
    {
     "data": {
      "text/latex": [
       "$\\displaystyle \\frac{8 \\sqrt{5}}{15}$"
      ],
      "text/plain": [
       "8*sqrt(5)/15"
      ]
     },
     "execution_count": 116,
     "metadata": {},
     "output_type": "execute_result"
    }
   ],
   "source": [
    "cosB = sp.Rational(2,7)\n",
    "QH = 2*sp.sqrt((1-cosB)/(1+cosB))\n",
    "cosC = sp.Rational(2,3)\n",
    "PH = 6 * sp.sqrt((1-cosC)/(1+cosC))\n",
    "PH - QH"
   ]
  },
  {
   "cell_type": "markdown",
   "metadata": {},
   "source": [
    "# Problem 9"
   ]
  },
  {
   "cell_type": "code",
   "execution_count": 99,
   "metadata": {},
   "outputs": [],
   "source": [
    "from sympy.abc import c"
   ]
  },
  {
   "cell_type": "code",
   "execution_count": 102,
   "metadata": {},
   "outputs": [
    {
     "data": {
      "text/latex": [
       "$\\displaystyle \\frac{5}{2} = \\frac{7}{2} - \\frac{3 c}{2}$"
      ],
      "text/plain": [
       "Eq(5/2, 7/2 - 3*c/2)"
      ]
     },
     "execution_count": 102,
     "metadata": {},
     "output_type": "execute_result"
    }
   ],
   "source": [
    "sp.Eq(sp.Rational(5,2), sp.Rational(1,2) * (3-c)*3 - 1)"
   ]
  },
  {
   "cell_type": "code",
   "execution_count": 103,
   "metadata": {},
   "outputs": [
    {
     "data": {
      "text/latex": [
       "$\\displaystyle \\left\\{\\frac{2}{3}\\right\\}$"
      ],
      "text/plain": [
       "FiniteSet(2/3)"
      ]
     },
     "execution_count": 103,
     "metadata": {},
     "output_type": "execute_result"
    }
   ],
   "source": [
    "sp.solveset(_,c)"
   ]
  },
  {
   "cell_type": "code",
   "execution_count": 104,
   "metadata": {},
   "outputs": [
    {
     "data": {
      "text/latex": [
       "$\\displaystyle \\frac{2}{3}$"
      ],
      "text/plain": [
       "2/3"
      ]
     },
     "execution_count": 104,
     "metadata": {},
     "output_type": "execute_result"
    }
   ],
   "source": [
    "next(iter(_))"
   ]
  },
  {
   "cell_type": "markdown",
   "metadata": {},
   "source": [
    "# Problem 10\n",
    "$9 - 5 + 9 + 5 = 18$"
   ]
  },
  {
   "cell_type": "code",
   "execution_count": null,
   "metadata": {},
   "outputs": [],
   "source": []
  }
 ],
 "metadata": {
  "kernelspec": {
   "display_name": "Python 3",
   "language": "python",
   "name": "python3"
  },
  "language_info": {
   "codemirror_mode": {
    "name": "ipython",
    "version": 3
   },
   "file_extension": ".py",
   "mimetype": "text/x-python",
   "name": "python",
   "nbconvert_exporter": "python",
   "pygments_lexer": "ipython3",
   "version": "3.8.4"
  }
 },
 "nbformat": 4,
 "nbformat_minor": 4
}
